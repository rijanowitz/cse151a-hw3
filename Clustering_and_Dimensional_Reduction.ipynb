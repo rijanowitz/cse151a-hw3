{
  "cells": [
    {
      "cell_type": "markdown",
      "metadata": {
        "id": "bNepbxuvBNWi"
      },
      "source": [
        "# Homework 3"
      ]
    },
    {
      "cell_type": "markdown",
      "metadata": {
        "id": "4M5d3VPpBNWm"
      },
      "source": [
        "## Message from your Prof\n",
        "> **Remember for the best way to learn this content, and maximize your learning experience, you must implement these models yourself and only use imports for checking your work**\n",
        "\n",
        "You can only import classification_report from sklearn evaluation metrics (you do not need to implement classification report), but you have to implement the train_test_split, and the classifiers yourselves. You will need to use numpy or pandas as inputs for your models. You should only use the imports listed below to check your work.\n",
        "\n",
        "Students that do not practice their own implementations **will be cooked** in their skill assessments. I do not want to hear students complaining they did poorly because the homeworks did not reflect the skill assessments. YOU HAVE BEEN WARNED!!!\n",
        "\n",
        "<br>\n",
        "In this assignment, we are working on a list of 1200 bitstrings, where each of them contains 16 bits. <br >\n",
        "We will apply Agglomerative Clustering, K-means Clustering, and PCA to this dataset. <br >\n",
        "\n",
        "## Background and Data Information\n",
        "For a bitstring $S$ in this dataset, we describe $S = \\{s_{15}, s_{14}, s_{13}, s_{12}, \\ldots, s_{0} \\}$, where $s_{15}$ is often known as the most significant bit (MSB) and $s_0$ as the least significant bit (LSB). <br >\n",
        "\n",
        "There are duplicated bitstrings in this dataset, but they will not affect this assignment. Don't worry about them. <br >\n",
        "\n",
        "## Equivalence Relation\n",
        "\n",
        "**This is an important concept to Exercise 1.**\n",
        "\n",
        "Let's say if we have two bitstrings, $A = \\{a_{15}, a_{14}, a_{13}, \\ldots, a_{0} \\}$ and $B = \\{b_{15}, b_{14}, b_{13}, \\ldots, b_{0} \\}$. <br >\n",
        "\n",
        "We can flip one bit $a_i$ in $A$ to get another bitstring $A'$, such that the difference of $A$ and $A'$ is only one bit. We define the above transformation to be $A \\to A'$. <br >\n",
        "\n",
        "\n",
        "We call two bitstrings $A$ and $B$ to be **equivalent** ($A \\sim B$) if there exists a sequence $A \\to C_1 \\to C_2 \\to \\cdots \\to C_n \\to B$, where $\\forall i, C_i$ belongs to the dataset.\n",
        "\n",
        "It can be seen that equivalence is both __commutative__ ($A \\sim B \\iff B \\sim A$) as well as __transitive__ ($A \\sim B, B \\sim C \\implies A \\sim C$). <br >\n",
        "\n",
        "We can say that the elements in the above sequence $\\{ A, C_1, \\ldots, C_n, B\\}$ form an equivalence class. Given a new bitstring $X$, we can see that if $X \\sim C_i$, $1 \\le i \\le n$, then $X$ will be added to the above equivalence class, and by the transitive property of equivalence relations, $X \\sim A$, and $X \\sim B$.\n",
        "\n",
        "### Example\n",
        "\n",
        "Let's say we have 4 bitstrings, each of them is 4 bits long. They are $0000, 0010, 0110, 1100$, respectively.<br >\n",
        "\n",
        "We can say $0000 \\sim 0110$ because $0000 \\to 0010 \\to 0110$. <br >\n",
        "\n",
        "However, $0000 \\nsim 1100$. There may be sequences like $0000 \\to 1000 \\to 1100$ or $0000 \\to 0100 \\to 1100$, but neither $1000$ nor $0100$ is in our dataset. <br >\n",
        "\n",
        "Ultimately, $\\{0000, 0010, 0110\\}$ form an equivalence class, whereas $\\{1100\\}$ is the other. As a result, there are two classes."
      ]
    },
    {
      "cell_type": "markdown",
      "metadata": {
        "id": "ddqEVDQwBNWo"
      },
      "source": [
        "### Libraries that can be used: numpy, scipy, pandas, scikit-learn, matplotlib, seaborn\n",
        "Any libraries used in the discussion and lecture materials are also allowed."
      ]
    },
    {
      "cell_type": "code",
      "execution_count": 1,
      "metadata": {
        "id": "dca6xFznXOvX",
        "colab": {
          "base_uri": "https://localhost:8080/",
          "height": 0
        },
        "outputId": "21890337-1063-4b81-990e-08f057dfb43a"
      },
      "outputs": [
        {
          "output_type": "stream",
          "name": "stdout",
          "text": [
            "Cloning into 'hw3'...\n",
            "remote: Enumerating objects: 56, done.\u001b[K\n",
            "remote: Counting objects: 100% (56/56), done.\u001b[K\n",
            "remote: Compressing objects: 100% (35/35), done.\u001b[K\n",
            "remote: Total 56 (delta 30), reused 41 (delta 20), pack-reused 0 (from 0)\u001b[K\n",
            "Receiving objects: 100% (56/56), 657.15 KiB | 10.95 MiB/s, done.\n",
            "Resolving deltas: 100% (30/30), done.\n"
          ]
        }
      ],
      "source": [
        "!git clone https://github.com/ucsd-cse151a-ss25/hw3.git"
      ]
    },
    {
      "cell_type": "markdown",
      "metadata": {
        "id": "ACCnVnK6BNWq"
      },
      "source": [
        "# Exercises\n",
        "## Exercise 1 - Agglomerative Clustering (20 points in total)"
      ]
    },
    {
      "cell_type": "markdown",
      "metadata": {
        "id": "XiKJO3a3BNWr"
      },
      "source": [
        "Using agglomerative clustering with a distance threshold for early stopping, we can calculate the number of equivalence classes by counting the number of clusters. In order to perform agglomerative clustering, we have to consider what parameters may be used: <br >\n",
        "\n",
        "### Exercise 1.1 - Choosing Parameters (5 points)\n",
        "\n",
        " - Explain why you would pick these parameters.\n",
        "     - Which linkage rule should be used? (single-linkage, complete-linkage, or average-linkage)\n",
        "     - Which distance function should be used? (Euclidean distance, Manhattan distance, or cosine distance)\n",
        "     - What should the threshold distance be?\n",
        "\n",
        "Hints:\n",
        " - How the distance threshold works: Whenever two clusters are picked to consider merging them, the distance between those clusters is compared to the distance threshold. If the distance is smaller than the threshold, the clusters merge and the algorithm continues; Otherwise, they will not be merged.\n",
        " - How to choose a linkage rule: Think about how you would figure out which equivalence class the string $0001$ belongs to in the previously given example."
      ]
    },
    {
      "cell_type": "code",
      "execution_count": 2,
      "metadata": {
        "id": "YbPKru-hBNWt",
        "colab": {
          "base_uri": "https://localhost:8080/",
          "height": 424
        },
        "outputId": "8ce207a9-69c6-4009-9cf1-8acbd1ad40c3"
      },
      "outputs": [
        {
          "output_type": "execute_result",
          "data": {
            "text/plain": [
              "      b15  b14  b13  b12  b11  b10  b9  b8  b7  b6  b5  b4  b3  b2  b1  b0\n",
              "0       0    0    0    0    0    0   1   1   0   1   1   1   1   1   0   0\n",
              "1       0    0    0    0    0    0   1   1   0   0   1   1   1   1   0   0\n",
              "2       0    0    0    0    0    0   0   1   0   0   1   1   1   1   0   0\n",
              "3       0    0    0    0    0    0   1   1   0   0   1   1   1   1   0   0\n",
              "4       0    0    0    0    0    1   1   1   0   0   1   1   1   1   0   0\n",
              "...   ...  ...  ...  ...  ...  ...  ..  ..  ..  ..  ..  ..  ..  ..  ..  ..\n",
              "1195    1    1    0    1    1    1   1   1   1   0   0   0   1   1   1   1\n",
              "1196    1    1    0    1    1    1   1   1   1   0   0   0   1   1   1   0\n",
              "1197    1    1    0    1    1    1   1   1   1   1   0   0   1   1   1   1\n",
              "1198    1    1    0    1    1    1   1   1   1   1   1   1   1   1   1   1\n",
              "1199    1    0    0    1    1    1   1   1   1   1   1   0   1   1   1   1\n",
              "\n",
              "[1200 rows x 16 columns]"
            ],
            "text/html": [
              "\n",
              "  <div id=\"df-464c1129-e7bb-4554-aa2f-dc63d2180d9f\" class=\"colab-df-container\">\n",
              "    <div>\n",
              "<style scoped>\n",
              "    .dataframe tbody tr th:only-of-type {\n",
              "        vertical-align: middle;\n",
              "    }\n",
              "\n",
              "    .dataframe tbody tr th {\n",
              "        vertical-align: top;\n",
              "    }\n",
              "\n",
              "    .dataframe thead th {\n",
              "        text-align: right;\n",
              "    }\n",
              "</style>\n",
              "<table border=\"1\" class=\"dataframe\">\n",
              "  <thead>\n",
              "    <tr style=\"text-align: right;\">\n",
              "      <th></th>\n",
              "      <th>b15</th>\n",
              "      <th>b14</th>\n",
              "      <th>b13</th>\n",
              "      <th>b12</th>\n",
              "      <th>b11</th>\n",
              "      <th>b10</th>\n",
              "      <th>b9</th>\n",
              "      <th>b8</th>\n",
              "      <th>b7</th>\n",
              "      <th>b6</th>\n",
              "      <th>b5</th>\n",
              "      <th>b4</th>\n",
              "      <th>b3</th>\n",
              "      <th>b2</th>\n",
              "      <th>b1</th>\n",
              "      <th>b0</th>\n",
              "    </tr>\n",
              "  </thead>\n",
              "  <tbody>\n",
              "    <tr>\n",
              "      <th>0</th>\n",
              "      <td>0</td>\n",
              "      <td>0</td>\n",
              "      <td>0</td>\n",
              "      <td>0</td>\n",
              "      <td>0</td>\n",
              "      <td>0</td>\n",
              "      <td>1</td>\n",
              "      <td>1</td>\n",
              "      <td>0</td>\n",
              "      <td>1</td>\n",
              "      <td>1</td>\n",
              "      <td>1</td>\n",
              "      <td>1</td>\n",
              "      <td>1</td>\n",
              "      <td>0</td>\n",
              "      <td>0</td>\n",
              "    </tr>\n",
              "    <tr>\n",
              "      <th>1</th>\n",
              "      <td>0</td>\n",
              "      <td>0</td>\n",
              "      <td>0</td>\n",
              "      <td>0</td>\n",
              "      <td>0</td>\n",
              "      <td>0</td>\n",
              "      <td>1</td>\n",
              "      <td>1</td>\n",
              "      <td>0</td>\n",
              "      <td>0</td>\n",
              "      <td>1</td>\n",
              "      <td>1</td>\n",
              "      <td>1</td>\n",
              "      <td>1</td>\n",
              "      <td>0</td>\n",
              "      <td>0</td>\n",
              "    </tr>\n",
              "    <tr>\n",
              "      <th>2</th>\n",
              "      <td>0</td>\n",
              "      <td>0</td>\n",
              "      <td>0</td>\n",
              "      <td>0</td>\n",
              "      <td>0</td>\n",
              "      <td>0</td>\n",
              "      <td>0</td>\n",
              "      <td>1</td>\n",
              "      <td>0</td>\n",
              "      <td>0</td>\n",
              "      <td>1</td>\n",
              "      <td>1</td>\n",
              "      <td>1</td>\n",
              "      <td>1</td>\n",
              "      <td>0</td>\n",
              "      <td>0</td>\n",
              "    </tr>\n",
              "    <tr>\n",
              "      <th>3</th>\n",
              "      <td>0</td>\n",
              "      <td>0</td>\n",
              "      <td>0</td>\n",
              "      <td>0</td>\n",
              "      <td>0</td>\n",
              "      <td>0</td>\n",
              "      <td>1</td>\n",
              "      <td>1</td>\n",
              "      <td>0</td>\n",
              "      <td>0</td>\n",
              "      <td>1</td>\n",
              "      <td>1</td>\n",
              "      <td>1</td>\n",
              "      <td>1</td>\n",
              "      <td>0</td>\n",
              "      <td>0</td>\n",
              "    </tr>\n",
              "    <tr>\n",
              "      <th>4</th>\n",
              "      <td>0</td>\n",
              "      <td>0</td>\n",
              "      <td>0</td>\n",
              "      <td>0</td>\n",
              "      <td>0</td>\n",
              "      <td>1</td>\n",
              "      <td>1</td>\n",
              "      <td>1</td>\n",
              "      <td>0</td>\n",
              "      <td>0</td>\n",
              "      <td>1</td>\n",
              "      <td>1</td>\n",
              "      <td>1</td>\n",
              "      <td>1</td>\n",
              "      <td>0</td>\n",
              "      <td>0</td>\n",
              "    </tr>\n",
              "    <tr>\n",
              "      <th>...</th>\n",
              "      <td>...</td>\n",
              "      <td>...</td>\n",
              "      <td>...</td>\n",
              "      <td>...</td>\n",
              "      <td>...</td>\n",
              "      <td>...</td>\n",
              "      <td>...</td>\n",
              "      <td>...</td>\n",
              "      <td>...</td>\n",
              "      <td>...</td>\n",
              "      <td>...</td>\n",
              "      <td>...</td>\n",
              "      <td>...</td>\n",
              "      <td>...</td>\n",
              "      <td>...</td>\n",
              "      <td>...</td>\n",
              "    </tr>\n",
              "    <tr>\n",
              "      <th>1195</th>\n",
              "      <td>1</td>\n",
              "      <td>1</td>\n",
              "      <td>0</td>\n",
              "      <td>1</td>\n",
              "      <td>1</td>\n",
              "      <td>1</td>\n",
              "      <td>1</td>\n",
              "      <td>1</td>\n",
              "      <td>1</td>\n",
              "      <td>0</td>\n",
              "      <td>0</td>\n",
              "      <td>0</td>\n",
              "      <td>1</td>\n",
              "      <td>1</td>\n",
              "      <td>1</td>\n",
              "      <td>1</td>\n",
              "    </tr>\n",
              "    <tr>\n",
              "      <th>1196</th>\n",
              "      <td>1</td>\n",
              "      <td>1</td>\n",
              "      <td>0</td>\n",
              "      <td>1</td>\n",
              "      <td>1</td>\n",
              "      <td>1</td>\n",
              "      <td>1</td>\n",
              "      <td>1</td>\n",
              "      <td>1</td>\n",
              "      <td>0</td>\n",
              "      <td>0</td>\n",
              "      <td>0</td>\n",
              "      <td>1</td>\n",
              "      <td>1</td>\n",
              "      <td>1</td>\n",
              "      <td>0</td>\n",
              "    </tr>\n",
              "    <tr>\n",
              "      <th>1197</th>\n",
              "      <td>1</td>\n",
              "      <td>1</td>\n",
              "      <td>0</td>\n",
              "      <td>1</td>\n",
              "      <td>1</td>\n",
              "      <td>1</td>\n",
              "      <td>1</td>\n",
              "      <td>1</td>\n",
              "      <td>1</td>\n",
              "      <td>1</td>\n",
              "      <td>0</td>\n",
              "      <td>0</td>\n",
              "      <td>1</td>\n",
              "      <td>1</td>\n",
              "      <td>1</td>\n",
              "      <td>1</td>\n",
              "    </tr>\n",
              "    <tr>\n",
              "      <th>1198</th>\n",
              "      <td>1</td>\n",
              "      <td>1</td>\n",
              "      <td>0</td>\n",
              "      <td>1</td>\n",
              "      <td>1</td>\n",
              "      <td>1</td>\n",
              "      <td>1</td>\n",
              "      <td>1</td>\n",
              "      <td>1</td>\n",
              "      <td>1</td>\n",
              "      <td>1</td>\n",
              "      <td>1</td>\n",
              "      <td>1</td>\n",
              "      <td>1</td>\n",
              "      <td>1</td>\n",
              "      <td>1</td>\n",
              "    </tr>\n",
              "    <tr>\n",
              "      <th>1199</th>\n",
              "      <td>1</td>\n",
              "      <td>0</td>\n",
              "      <td>0</td>\n",
              "      <td>1</td>\n",
              "      <td>1</td>\n",
              "      <td>1</td>\n",
              "      <td>1</td>\n",
              "      <td>1</td>\n",
              "      <td>1</td>\n",
              "      <td>1</td>\n",
              "      <td>1</td>\n",
              "      <td>0</td>\n",
              "      <td>1</td>\n",
              "      <td>1</td>\n",
              "      <td>1</td>\n",
              "      <td>1</td>\n",
              "    </tr>\n",
              "  </tbody>\n",
              "</table>\n",
              "<p>1200 rows × 16 columns</p>\n",
              "</div>\n",
              "    <div class=\"colab-df-buttons\">\n",
              "\n",
              "  <div class=\"colab-df-container\">\n",
              "    <button class=\"colab-df-convert\" onclick=\"convertToInteractive('df-464c1129-e7bb-4554-aa2f-dc63d2180d9f')\"\n",
              "            title=\"Convert this dataframe to an interactive table.\"\n",
              "            style=\"display:none;\">\n",
              "\n",
              "  <svg xmlns=\"http://www.w3.org/2000/svg\" height=\"24px\" viewBox=\"0 -960 960 960\">\n",
              "    <path d=\"M120-120v-720h720v720H120Zm60-500h600v-160H180v160Zm220 220h160v-160H400v160Zm0 220h160v-160H400v160ZM180-400h160v-160H180v160Zm440 0h160v-160H620v160ZM180-180h160v-160H180v160Zm440 0h160v-160H620v160Z\"/>\n",
              "  </svg>\n",
              "    </button>\n",
              "\n",
              "  <style>\n",
              "    .colab-df-container {\n",
              "      display:flex;\n",
              "      gap: 12px;\n",
              "    }\n",
              "\n",
              "    .colab-df-convert {\n",
              "      background-color: #E8F0FE;\n",
              "      border: none;\n",
              "      border-radius: 50%;\n",
              "      cursor: pointer;\n",
              "      display: none;\n",
              "      fill: #1967D2;\n",
              "      height: 32px;\n",
              "      padding: 0 0 0 0;\n",
              "      width: 32px;\n",
              "    }\n",
              "\n",
              "    .colab-df-convert:hover {\n",
              "      background-color: #E2EBFA;\n",
              "      box-shadow: 0px 1px 2px rgba(60, 64, 67, 0.3), 0px 1px 3px 1px rgba(60, 64, 67, 0.15);\n",
              "      fill: #174EA6;\n",
              "    }\n",
              "\n",
              "    .colab-df-buttons div {\n",
              "      margin-bottom: 4px;\n",
              "    }\n",
              "\n",
              "    [theme=dark] .colab-df-convert {\n",
              "      background-color: #3B4455;\n",
              "      fill: #D2E3FC;\n",
              "    }\n",
              "\n",
              "    [theme=dark] .colab-df-convert:hover {\n",
              "      background-color: #434B5C;\n",
              "      box-shadow: 0px 1px 3px 1px rgba(0, 0, 0, 0.15);\n",
              "      filter: drop-shadow(0px 1px 2px rgba(0, 0, 0, 0.3));\n",
              "      fill: #FFFFFF;\n",
              "    }\n",
              "  </style>\n",
              "\n",
              "    <script>\n",
              "      const buttonEl =\n",
              "        document.querySelector('#df-464c1129-e7bb-4554-aa2f-dc63d2180d9f button.colab-df-convert');\n",
              "      buttonEl.style.display =\n",
              "        google.colab.kernel.accessAllowed ? 'block' : 'none';\n",
              "\n",
              "      async function convertToInteractive(key) {\n",
              "        const element = document.querySelector('#df-464c1129-e7bb-4554-aa2f-dc63d2180d9f');\n",
              "        const dataTable =\n",
              "          await google.colab.kernel.invokeFunction('convertToInteractive',\n",
              "                                                    [key], {});\n",
              "        if (!dataTable) return;\n",
              "\n",
              "        const docLinkHtml = 'Like what you see? Visit the ' +\n",
              "          '<a target=\"_blank\" href=https://colab.research.google.com/notebooks/data_table.ipynb>data table notebook</a>'\n",
              "          + ' to learn more about interactive tables.';\n",
              "        element.innerHTML = '';\n",
              "        dataTable['output_type'] = 'display_data';\n",
              "        await google.colab.output.renderOutput(dataTable, element);\n",
              "        const docLink = document.createElement('div');\n",
              "        docLink.innerHTML = docLinkHtml;\n",
              "        element.appendChild(docLink);\n",
              "      }\n",
              "    </script>\n",
              "  </div>\n",
              "\n",
              "\n",
              "    <div id=\"df-d4298177-1609-4ded-ae36-009449d72e38\">\n",
              "      <button class=\"colab-df-quickchart\" onclick=\"quickchart('df-d4298177-1609-4ded-ae36-009449d72e38')\"\n",
              "                title=\"Suggest charts\"\n",
              "                style=\"display:none;\">\n",
              "\n",
              "<svg xmlns=\"http://www.w3.org/2000/svg\" height=\"24px\"viewBox=\"0 0 24 24\"\n",
              "     width=\"24px\">\n",
              "    <g>\n",
              "        <path d=\"M19 3H5c-1.1 0-2 .9-2 2v14c0 1.1.9 2 2 2h14c1.1 0 2-.9 2-2V5c0-1.1-.9-2-2-2zM9 17H7v-7h2v7zm4 0h-2V7h2v10zm4 0h-2v-4h2v4z\"/>\n",
              "    </g>\n",
              "</svg>\n",
              "      </button>\n",
              "\n",
              "<style>\n",
              "  .colab-df-quickchart {\n",
              "      --bg-color: #E8F0FE;\n",
              "      --fill-color: #1967D2;\n",
              "      --hover-bg-color: #E2EBFA;\n",
              "      --hover-fill-color: #174EA6;\n",
              "      --disabled-fill-color: #AAA;\n",
              "      --disabled-bg-color: #DDD;\n",
              "  }\n",
              "\n",
              "  [theme=dark] .colab-df-quickchart {\n",
              "      --bg-color: #3B4455;\n",
              "      --fill-color: #D2E3FC;\n",
              "      --hover-bg-color: #434B5C;\n",
              "      --hover-fill-color: #FFFFFF;\n",
              "      --disabled-bg-color: #3B4455;\n",
              "      --disabled-fill-color: #666;\n",
              "  }\n",
              "\n",
              "  .colab-df-quickchart {\n",
              "    background-color: var(--bg-color);\n",
              "    border: none;\n",
              "    border-radius: 50%;\n",
              "    cursor: pointer;\n",
              "    display: none;\n",
              "    fill: var(--fill-color);\n",
              "    height: 32px;\n",
              "    padding: 0;\n",
              "    width: 32px;\n",
              "  }\n",
              "\n",
              "  .colab-df-quickchart:hover {\n",
              "    background-color: var(--hover-bg-color);\n",
              "    box-shadow: 0 1px 2px rgba(60, 64, 67, 0.3), 0 1px 3px 1px rgba(60, 64, 67, 0.15);\n",
              "    fill: var(--button-hover-fill-color);\n",
              "  }\n",
              "\n",
              "  .colab-df-quickchart-complete:disabled,\n",
              "  .colab-df-quickchart-complete:disabled:hover {\n",
              "    background-color: var(--disabled-bg-color);\n",
              "    fill: var(--disabled-fill-color);\n",
              "    box-shadow: none;\n",
              "  }\n",
              "\n",
              "  .colab-df-spinner {\n",
              "    border: 2px solid var(--fill-color);\n",
              "    border-color: transparent;\n",
              "    border-bottom-color: var(--fill-color);\n",
              "    animation:\n",
              "      spin 1s steps(1) infinite;\n",
              "  }\n",
              "\n",
              "  @keyframes spin {\n",
              "    0% {\n",
              "      border-color: transparent;\n",
              "      border-bottom-color: var(--fill-color);\n",
              "      border-left-color: var(--fill-color);\n",
              "    }\n",
              "    20% {\n",
              "      border-color: transparent;\n",
              "      border-left-color: var(--fill-color);\n",
              "      border-top-color: var(--fill-color);\n",
              "    }\n",
              "    30% {\n",
              "      border-color: transparent;\n",
              "      border-left-color: var(--fill-color);\n",
              "      border-top-color: var(--fill-color);\n",
              "      border-right-color: var(--fill-color);\n",
              "    }\n",
              "    40% {\n",
              "      border-color: transparent;\n",
              "      border-right-color: var(--fill-color);\n",
              "      border-top-color: var(--fill-color);\n",
              "    }\n",
              "    60% {\n",
              "      border-color: transparent;\n",
              "      border-right-color: var(--fill-color);\n",
              "    }\n",
              "    80% {\n",
              "      border-color: transparent;\n",
              "      border-right-color: var(--fill-color);\n",
              "      border-bottom-color: var(--fill-color);\n",
              "    }\n",
              "    90% {\n",
              "      border-color: transparent;\n",
              "      border-bottom-color: var(--fill-color);\n",
              "    }\n",
              "  }\n",
              "</style>\n",
              "\n",
              "      <script>\n",
              "        async function quickchart(key) {\n",
              "          const quickchartButtonEl =\n",
              "            document.querySelector('#' + key + ' button');\n",
              "          quickchartButtonEl.disabled = true;  // To prevent multiple clicks.\n",
              "          quickchartButtonEl.classList.add('colab-df-spinner');\n",
              "          try {\n",
              "            const charts = await google.colab.kernel.invokeFunction(\n",
              "                'suggestCharts', [key], {});\n",
              "          } catch (error) {\n",
              "            console.error('Error during call to suggestCharts:', error);\n",
              "          }\n",
              "          quickchartButtonEl.classList.remove('colab-df-spinner');\n",
              "          quickchartButtonEl.classList.add('colab-df-quickchart-complete');\n",
              "        }\n",
              "        (() => {\n",
              "          let quickchartButtonEl =\n",
              "            document.querySelector('#df-d4298177-1609-4ded-ae36-009449d72e38 button');\n",
              "          quickchartButtonEl.style.display =\n",
              "            google.colab.kernel.accessAllowed ? 'block' : 'none';\n",
              "        })();\n",
              "      </script>\n",
              "    </div>\n",
              "\n",
              "  <div id=\"id_d04b8726-01c5-4b8a-91a4-36f549fcde47\">\n",
              "    <style>\n",
              "      .colab-df-generate {\n",
              "        background-color: #E8F0FE;\n",
              "        border: none;\n",
              "        border-radius: 50%;\n",
              "        cursor: pointer;\n",
              "        display: none;\n",
              "        fill: #1967D2;\n",
              "        height: 32px;\n",
              "        padding: 0 0 0 0;\n",
              "        width: 32px;\n",
              "      }\n",
              "\n",
              "      .colab-df-generate:hover {\n",
              "        background-color: #E2EBFA;\n",
              "        box-shadow: 0px 1px 2px rgba(60, 64, 67, 0.3), 0px 1px 3px 1px rgba(60, 64, 67, 0.15);\n",
              "        fill: #174EA6;\n",
              "      }\n",
              "\n",
              "      [theme=dark] .colab-df-generate {\n",
              "        background-color: #3B4455;\n",
              "        fill: #D2E3FC;\n",
              "      }\n",
              "\n",
              "      [theme=dark] .colab-df-generate:hover {\n",
              "        background-color: #434B5C;\n",
              "        box-shadow: 0px 1px 3px 1px rgba(0, 0, 0, 0.15);\n",
              "        filter: drop-shadow(0px 1px 2px rgba(0, 0, 0, 0.3));\n",
              "        fill: #FFFFFF;\n",
              "      }\n",
              "    </style>\n",
              "    <button class=\"colab-df-generate\" onclick=\"generateWithVariable('df')\"\n",
              "            title=\"Generate code using this dataframe.\"\n",
              "            style=\"display:none;\">\n",
              "\n",
              "  <svg xmlns=\"http://www.w3.org/2000/svg\" height=\"24px\"viewBox=\"0 0 24 24\"\n",
              "       width=\"24px\">\n",
              "    <path d=\"M7,19H8.4L18.45,9,17,7.55,7,17.6ZM5,21V16.75L18.45,3.32a2,2,0,0,1,2.83,0l1.4,1.43a1.91,1.91,0,0,1,.58,1.4,1.91,1.91,0,0,1-.58,1.4L9.25,21ZM18.45,9,17,7.55Zm-12,3A5.31,5.31,0,0,0,4.9,8.1,5.31,5.31,0,0,0,1,6.5,5.31,5.31,0,0,0,4.9,4.9,5.31,5.31,0,0,0,6.5,1,5.31,5.31,0,0,0,8.1,4.9,5.31,5.31,0,0,0,12,6.5,5.46,5.46,0,0,0,6.5,12Z\"/>\n",
              "  </svg>\n",
              "    </button>\n",
              "    <script>\n",
              "      (() => {\n",
              "      const buttonEl =\n",
              "        document.querySelector('#id_d04b8726-01c5-4b8a-91a4-36f549fcde47 button.colab-df-generate');\n",
              "      buttonEl.style.display =\n",
              "        google.colab.kernel.accessAllowed ? 'block' : 'none';\n",
              "\n",
              "      buttonEl.onclick = () => {\n",
              "        google.colab.notebook.generateWithVariable('df');\n",
              "      }\n",
              "      })();\n",
              "    </script>\n",
              "  </div>\n",
              "\n",
              "    </div>\n",
              "  </div>\n"
            ],
            "application/vnd.google.colaboratory.intrinsic+json": {
              "type": "dataframe",
              "variable_name": "df",
              "summary": "{\n  \"name\": \"df\",\n  \"rows\": 1200,\n  \"fields\": [\n    {\n      \"column\": \"b15\",\n      \"properties\": {\n        \"dtype\": \"number\",\n        \"std\": 0,\n        \"min\": 0,\n        \"max\": 1,\n        \"num_unique_values\": 2,\n        \"samples\": [\n          1,\n          0\n        ],\n        \"semantic_type\": \"\",\n        \"description\": \"\"\n      }\n    },\n    {\n      \"column\": \"b14\",\n      \"properties\": {\n        \"dtype\": \"number\",\n        \"std\": 0,\n        \"min\": 0,\n        \"max\": 1,\n        \"num_unique_values\": 2,\n        \"samples\": [\n          1,\n          0\n        ],\n        \"semantic_type\": \"\",\n        \"description\": \"\"\n      }\n    },\n    {\n      \"column\": \"b13\",\n      \"properties\": {\n        \"dtype\": \"number\",\n        \"std\": 0,\n        \"min\": 0,\n        \"max\": 1,\n        \"num_unique_values\": 2,\n        \"samples\": [\n          1,\n          0\n        ],\n        \"semantic_type\": \"\",\n        \"description\": \"\"\n      }\n    },\n    {\n      \"column\": \"b12\",\n      \"properties\": {\n        \"dtype\": \"number\",\n        \"std\": 0,\n        \"min\": 0,\n        \"max\": 1,\n        \"num_unique_values\": 2,\n        \"samples\": [\n          1,\n          0\n        ],\n        \"semantic_type\": \"\",\n        \"description\": \"\"\n      }\n    },\n    {\n      \"column\": \"b11\",\n      \"properties\": {\n        \"dtype\": \"number\",\n        \"std\": 0,\n        \"min\": 0,\n        \"max\": 1,\n        \"num_unique_values\": 2,\n        \"samples\": [\n          1,\n          0\n        ],\n        \"semantic_type\": \"\",\n        \"description\": \"\"\n      }\n    },\n    {\n      \"column\": \"b10\",\n      \"properties\": {\n        \"dtype\": \"number\",\n        \"std\": 0,\n        \"min\": 0,\n        \"max\": 1,\n        \"num_unique_values\": 2,\n        \"samples\": [\n          1,\n          0\n        ],\n        \"semantic_type\": \"\",\n        \"description\": \"\"\n      }\n    },\n    {\n      \"column\": \"b9\",\n      \"properties\": {\n        \"dtype\": \"number\",\n        \"std\": 0,\n        \"min\": 0,\n        \"max\": 1,\n        \"num_unique_values\": 2,\n        \"samples\": [\n          0,\n          1\n        ],\n        \"semantic_type\": \"\",\n        \"description\": \"\"\n      }\n    },\n    {\n      \"column\": \"b8\",\n      \"properties\": {\n        \"dtype\": \"number\",\n        \"std\": 0,\n        \"min\": 0,\n        \"max\": 1,\n        \"num_unique_values\": 2,\n        \"samples\": [\n          0,\n          1\n        ],\n        \"semantic_type\": \"\",\n        \"description\": \"\"\n      }\n    },\n    {\n      \"column\": \"b7\",\n      \"properties\": {\n        \"dtype\": \"number\",\n        \"std\": 0,\n        \"min\": 0,\n        \"max\": 1,\n        \"num_unique_values\": 2,\n        \"samples\": [\n          1,\n          0\n        ],\n        \"semantic_type\": \"\",\n        \"description\": \"\"\n      }\n    },\n    {\n      \"column\": \"b6\",\n      \"properties\": {\n        \"dtype\": \"number\",\n        \"std\": 0,\n        \"min\": 0,\n        \"max\": 1,\n        \"num_unique_values\": 2,\n        \"samples\": [\n          0,\n          1\n        ],\n        \"semantic_type\": \"\",\n        \"description\": \"\"\n      }\n    },\n    {\n      \"column\": \"b5\",\n      \"properties\": {\n        \"dtype\": \"number\",\n        \"std\": 0,\n        \"min\": 0,\n        \"max\": 1,\n        \"num_unique_values\": 2,\n        \"samples\": [\n          0,\n          1\n        ],\n        \"semantic_type\": \"\",\n        \"description\": \"\"\n      }\n    },\n    {\n      \"column\": \"b4\",\n      \"properties\": {\n        \"dtype\": \"number\",\n        \"std\": 0,\n        \"min\": 0,\n        \"max\": 1,\n        \"num_unique_values\": 2,\n        \"samples\": [\n          0,\n          1\n        ],\n        \"semantic_type\": \"\",\n        \"description\": \"\"\n      }\n    },\n    {\n      \"column\": \"b3\",\n      \"properties\": {\n        \"dtype\": \"number\",\n        \"std\": 0,\n        \"min\": 0,\n        \"max\": 1,\n        \"num_unique_values\": 2,\n        \"samples\": [\n          0,\n          1\n        ],\n        \"semantic_type\": \"\",\n        \"description\": \"\"\n      }\n    },\n    {\n      \"column\": \"b2\",\n      \"properties\": {\n        \"dtype\": \"number\",\n        \"std\": 0,\n        \"min\": 0,\n        \"max\": 1,\n        \"num_unique_values\": 2,\n        \"samples\": [\n          0,\n          1\n        ],\n        \"semantic_type\": \"\",\n        \"description\": \"\"\n      }\n    },\n    {\n      \"column\": \"b1\",\n      \"properties\": {\n        \"dtype\": \"number\",\n        \"std\": 0,\n        \"min\": 0,\n        \"max\": 1,\n        \"num_unique_values\": 2,\n        \"samples\": [\n          1,\n          0\n        ],\n        \"semantic_type\": \"\",\n        \"description\": \"\"\n      }\n    },\n    {\n      \"column\": \"b0\",\n      \"properties\": {\n        \"dtype\": \"number\",\n        \"std\": 0,\n        \"min\": 0,\n        \"max\": 1,\n        \"num_unique_values\": 2,\n        \"samples\": [\n          1,\n          0\n        ],\n        \"semantic_type\": \"\",\n        \"description\": \"\"\n      }\n    }\n  ]\n}"
            }
          },
          "metadata": {},
          "execution_count": 2
        }
      ],
      "source": [
        "import pandas as pd\n",
        "import numpy as np\n",
        "df = pd.read_csv('./hw3/bitstrings.csv') # change filename location based on your setup\n",
        "\n",
        "df"
      ]
    },
    {
      "cell_type": "markdown",
      "source": [
        "Explain why you would pick these parameters:\n",
        "\n",
        "**1. Which linkage rule should be used? (single-linkage, completely-linkage, or average-linkage)**  \n",
        "Single-linkage makes the most sense because we only care if a new bitstring is one bit away from ANY bitstring in the current cluster. The new bitstring doesn't need to be 1 bit away from all bitstrings in the cluster, and I'm unsure why taking the average would even be applicable here.\n",
        "\n",
        "**2. Which distance function should be used? (Euclidean distance, Manhattan distance, or cosine distance)**  \n",
        "Since we're concerned with the number of bits that are different in each bitstring, Manhattan distance seems to make the most sense. For instance, if we calculate the distance formulas for the bitstrings 0000 and 0110, euclidean distance gives us 1.414, cosine distance gives us a divide by zero issue, and manhattan distance gives us 2, which is the accurate \"distance\" for these bitstrings.\n",
        "\n",
        "**3. What should the threshold distance be?**  \n",
        "We want to threshold at 1 because we care about bitstrings that are 1 bit away from the cluster, not bitstrings that are more that 1 bit away from the cluster.\n",
        "\n",
        "From the previous example, single-linkage using Manhattan distance, with a threshold of 1 will give us the {0000, 0010, 0100}, {1100} equivalence classes."
      ],
      "metadata": {
        "id": "i22e2uS4xKOn"
      }
    },
    {
      "cell_type": "markdown",
      "metadata": {
        "id": "YUBeJllzBNWv"
      },
      "source": [
        "### Exercise 1.2 - Agglomerative Clustering for Equivalence Classes (15 points)\n",
        "\n",
        " - Perform the agglomerative clustering with the parameters you picked in the above three questions.\n",
        " - Show the frequency(number of members) of each cluster. You are encouraged to create a bar chart to show the distribution as it will help you in Exercise 2, but printing only the numbers is also fine.\n",
        "\n",
        "Hints:\n",
        " - The value of ```distance_threshold``` in the arguments should be **slightly** higher than what you picked. This is because we only merge two clusters when their distance is **strictly smaller** than the threshold."
      ]
    },
    {
      "cell_type": "code",
      "execution_count": 3,
      "metadata": {
        "id": "yvnBbzDNBNWw",
        "colab": {
          "base_uri": "https://localhost:8080/",
          "height": 527
        },
        "outputId": "f90a31ba-a405-4e6a-b964-ae676683bee6"
      },
      "outputs": [
        {
          "output_type": "stream",
          "name": "stdout",
          "text": [
            "\n",
            "Hierarchical Cluster Labels: [25, 29, 29, 30, 28, 28, 25, 29, 30, 31, 28, 27, 31, 31, 31, 31, 31, 29, 31, 31, 28, 28, 30, 30, 31, 30, 26, 26, 28, 27, 31, 25, 29, 29, 29, 29, 31, 26, 25, 31, 26, 31, 26, 26, 26, 27, 31, 31, 31, 26, 30, 0, 28, 29, 28, 30, 28, 31, 30, 30, 29, 31, 30, 31, 28, 31, 25, 31, 31, 28, 28, 31, 27, 31, 31, 31, 31, 31, 30, 1, 30, 30, 27, 25, 31, 30, 30, 30, 30, 27, 30, 30, 30, 26, 26, 26, 26, 26, 26, 26, 30, 26, 26, 26, 26, 28, 28, 26, 28, 26, 28, 26, 29, 30, 30, 30, 25, 30, 30, 30, 27, 25, 25, 25, 31, 29, 29, 29, 25, 26, 25, 25, 25, 31, 29, 29, 27, 28, 28, 28, 28, 27, 28, 26, 31, 28, 28, 28, 28, 31, 28, 28, 28, 28, 28, 28, 28, 28, 28, 30, 31, 28, 29, 28, 31, 31, 31, 31, 28, 26, 31, 31, 28, 27, 28, 28, 27, 30, 30, 26, 31, 28, 28, 30, 31, 29, 29, 25, 30, 30, 2, 30, 30, 30, 27, 26, 28, 3, 31, 30, 31, 31, 31, 30, 27, 25, 27, 27, 27, 27, 27, 27, 30, 31, 31, 28, 29, 29, 26, 29, 26, 31, 29, 30, 30, 30, 30, 31, 25, 30, 27, 26, 30, 30, 29, 28, 29, 29, 29, 29, 29, 31, 30, 31, 30, 30, 30, 30, 31, 29, 31, 31, 25, 31, 30, 31, 31, 25, 29, 29, 29, 29, 25, 27, 29, 27, 28, 27, 27, 27, 4, 31, 31, 31, 31, 29, 29, 29, 29, 29, 29, 29, 29, 29, 29, 30, 29, 29, 25, 25, 30, 26, 26, 26, 26, 25, 25, 25, 25, 25, 25, 25, 25, 29, 31, 30, 30, 31, 31, 31, 25, 25, 25, 25, 30, 25, 25, 25, 25, 25, 31, 31, 31, 31, 31, 26, 31, 31, 25, 25, 25, 25, 31, 25, 31, 30, 31, 31, 30, 31, 31, 30, 5, 30, 31, 6, 30, 30, 31, 31, 31, 31, 30, 30, 30, 30, 30, 31, 31, 31, 31, 29, 7, 31, 8, 31, 31, 30, 29, 29, 25, 25, 25, 25, 25, 25, 30, 31, 9, 10, 11, 25, 31, 30, 30, 30, 30, 30, 31, 31, 31, 25, 31, 31, 29, 31, 31, 29, 29, 29, 28, 31, 27, 27, 27, 27, 28, 28, 28, 28, 27, 31, 31, 31, 30, 30, 27, 27, 28, 12, 27, 27, 27, 27, 27, 27, 27, 31, 25, 25, 31, 31, 31, 31, 31, 31, 27, 27, 27, 27, 27, 31, 31, 27, 27, 27, 27, 31, 28, 28, 28, 27, 27, 27, 27, 28, 30, 27, 30, 31, 31, 31, 31, 31, 31, 31, 31, 31, 31, 31, 31, 31, 31, 26, 26, 28, 27, 28, 28, 28, 26, 31, 28, 28, 28, 27, 28, 28, 28, 27, 28, 28, 28, 28, 31, 31, 26, 26, 26, 28, 29, 28, 25, 28, 13, 26, 31, 31, 31, 29, 31, 31, 31, 31, 31, 31, 31, 31, 28, 28, 28, 28, 28, 29, 31, 28, 26, 28, 28, 28, 27, 28, 28, 28, 28, 28, 28, 31, 31, 31, 31, 31, 31, 27, 28, 14, 28, 28, 28, 28, 28, 28, 28, 28, 28, 28, 28, 28, 28, 28, 28, 15, 31, 28, 28, 28, 27, 27, 27, 28, 29, 29, 29, 29, 29, 31, 31, 16, 31, 31, 29, 29, 28, 29, 27, 28, 17, 27, 31, 29, 31, 26, 31, 25, 26, 26, 31, 26, 26, 29, 31, 31, 31, 31, 18, 28, 28, 31, 26, 26, 26, 26, 30, 29, 30, 30, 19, 30, 30, 27, 27, 27, 20, 31, 28, 26, 26, 30, 30, 30, 30, 30, 30, 30, 30, 26, 26, 26, 26, 26, 28, 30, 30, 30, 30, 30, 30, 30, 30, 31, 31, 25, 28, 25, 25, 21, 28, 28, 28, 28, 28, 25, 22, 29, 29, 29, 29, 30, 30, 30, 30, 30, 30, 30, 28, 30, 29, 29, 29, 29, 29, 29, 25, 25, 25, 29, 28, 27, 28, 25, 31, 31, 27, 30, 31, 31, 31, 31, 30, 29, 30, 29, 30, 30, 29, 29, 23, 31, 29, 29, 29, 29, 29, 29, 29, 30, 29, 29, 29, 28, 31, 30, 26, 31, 31, 31, 31, 31, 31, 31, 29, 29, 29, 29, 29, 29, 30, 30, 30, 30, 29, 29, 29, 29, 29, 29, 27, 29, 29, 29, 29, 30, 27, 29, 29, 29, 29, 29, 29, 29, 31, 31, 31, 31, 31, 31, 31, 31, 29, 29, 31, 29, 29, 29, 24, 29, 29, 29, 29, 31, 27, 31, 31, 31]\n"
          ]
        },
        {
          "output_type": "display_data",
          "data": {
            "text/plain": [
              "<Figure size 640x480 with 1 Axes>"
            ],
            "image/png": "[encoded data removed]"
          },
          "metadata": {}
        }
      ],
      "source": [
        "# Perform agglomerative clustering\n",
        "# Use single-linkage, Manhattan distance, and threshold of 1\n",
        "# The value of distance_threshold in the arguments should be slightly higher\n",
        "# than what you picked because we only merge two clusters when their distance is\n",
        "# strictly smaller than the threshold\n",
        "\n",
        "import matplotlib.pyplot as plt\n",
        "\n",
        "def manhattan_distance(p1, p2):\n",
        "    \"\"\"Calculates the Manhattan distance between two points.\"\"\"\n",
        "    return np.sum(np.abs(p1 - p2))\n",
        "\n",
        "def calculate_cluster_distance(X, cluster1, cluster2, linkage_method='single'):\n",
        "    \"\"\"\n",
        "    Calculates the distance between two clusters based on the linkage method.\n",
        "\n",
        "    Parameters\n",
        "    ----------\n",
        "    cluster1, cluster2 : list of indices\n",
        "        Lists of indices of data points belonging to each cluster.\n",
        "    linkage_method : str\n",
        "        'single', 'complete', or 'average'.\n",
        "\n",
        "    Returns\n",
        "    -------\n",
        "    distance : float\n",
        "        The calculated distance between the clusters.\n",
        "    \"\"\"\n",
        "    if linkage_method == 'single':\n",
        "        return min(manhattan_distance(X[i], X[j]) for i in cluster1 for j in cluster2)\n",
        "    elif linkage_method == 'complete':\n",
        "        return max(manhattan_distance(X[i], X[j]) for i in cluster1 for j in cluster2)\n",
        "    elif linkage_method == 'average':\n",
        "        return np.mean([manhattan_distance(X[i], X[j]) for i in cluster1 for j in cluster2])\n",
        "    else:\n",
        "        raise ValueError(\"Invalid linkage method\")\n",
        "\n",
        "\n",
        "def hierarchical_clustering_from_scratch(X, distance_threshold, linkage_method='single'):\n",
        "    \"\"\"\n",
        "    Agglomerative Hierarchical Clustering from scratch using NumPy.\n",
        "\n",
        "    Parameters\n",
        "    ----------\n",
        "    X : (n_samples, n_features) ndarray\n",
        "        The input data.\n",
        "    n_clusters : int\n",
        "        The desired number of clusters to stop at.\n",
        "    linkage_method : str\n",
        "        'single', 'complete', 'average'.\n",
        "\n",
        "    Returns\n",
        "    -------\n",
        "    labels : (n_samples,) ndarray\n",
        "        Cluster labels for each sample.\n",
        "    \"\"\"\n",
        "    n_samples = X.shape[0]\n",
        "    # Initially, each data point is its own cluster\n",
        "    clusters = [[i] for i in range(n_samples)]\n",
        "\n",
        "    # Merge clusters until the desired number of clusters is reached\n",
        "    while True: # Just break if outside of distance_threshold\n",
        "        min_distance = float('inf')\n",
        "        merge_indices = (-1, -1)\n",
        "\n",
        "        # Find the two closest clusters\n",
        "        for i in range(len(clusters)):\n",
        "            for j in range(i + 1, len(clusters)):\n",
        "                dist = calculate_cluster_distance(X, clusters[i], clusters[j], linkage_method)\n",
        "                if dist < min_distance:\n",
        "                    min_distance = dist\n",
        "                    merge_indices = (i, j)\n",
        "\n",
        "        if min_distance >= distance_threshold:\n",
        "            break # DO NOT MERGE IF OVER THRESHOLD\n",
        "\n",
        "        # Merge the two closest clusters\n",
        "        idx1, idx2 = merge_indices\n",
        "        merged_cluster = clusters[idx1] + clusters[idx2]\n",
        "        clusters.pop(idx2) # Remove the second cluster first to avoid index issues\n",
        "        clusters.pop(idx1)\n",
        "        clusters.append(merged_cluster)\n",
        "\n",
        "    # Assign labels based on the final clusters\n",
        "    labels = np.zeros(n_samples, dtype=int)\n",
        "    for i, cluster in enumerate(clusters):\n",
        "        for data_index in cluster:\n",
        "            labels[data_index] = i\n",
        "\n",
        "    return labels\n",
        "\n",
        "# Apply Hierarchical Clustering from scratch\n",
        "# Takes too long, count frequencies\n",
        "frequencies = df.value_counts().reset_index(name=\"frequencies\")\n",
        "# Create new array without duplicates\n",
        "nodups = frequencies.iloc[:, :-1]\n",
        "X = nodups.to_numpy(dtype=int)\n",
        "hierarchical_labels = hierarchical_clustering_from_scratch(X, distance_threshold=1.01, linkage_method='single')\n",
        "\n",
        "# Add frequencies back in\n",
        "frequencies[\"labels\"] = hierarchical_labels\n",
        "cluster_qty = frequencies.groupby(\"labels\")[\"frequencies\"].sum()\n",
        "\n",
        "# Show the frequency (# of members) of each cluster\n",
        "print(\"\\nHierarchical Cluster Labels:\", hierarchical_labels.tolist())\n",
        "\n",
        "# Create a barchart to show the distribution\n",
        "# Visualize Hierarchical Clustering results\n",
        "plt.bar(cluster_qty.index, cluster_qty.values)\n",
        "plt.xlabel('Cluster')\n",
        "plt.ylabel('Frequency')\n",
        "plt.title('Agglomerative, Manhattan, Single, Threshold 1')\n",
        "plt.show()"
      ]
    },
    {
      "cell_type": "markdown",
      "metadata": {
        "id": "66TlQAHcBNWx"
      },
      "source": [
        "## Exercise 2 - K-Means Clustering (20 points in total)"
      ]
    },
    {
      "cell_type": "markdown",
      "metadata": {
        "id": "RMeLd_zCBNWy"
      },
      "source": [
        "Let's see how k-means behave differently from agglomerative clustering.\n",
        "\n",
        "### Exercise 2.1 - K-Means Clustering for Equivalence Classes (10 points)\n",
        " - Re-cluster the dataset with k-means, but with the number of clusters you obtained from Exercise 1.\n",
        " - Show the frequency(number of members) of each cluster. Again, you are encouraged to create a bar chart, but printing the numbers is also fine."
      ]
    },
    {
      "cell_type": "code",
      "execution_count": 4,
      "metadata": {
        "id": "vF7fX1xnBNW0",
        "colab": {
          "base_uri": "https://localhost:8080/",
          "height": 472
        },
        "outputId": "905f0122-def5-42c6-c106-05934878b0af"
      },
      "outputs": [
        {
          "output_type": "display_data",
          "data": {
            "text/plain": [
              "<Figure size 640x480 with 1 Axes>"
            ],
            "image/png": "[encoded data removed]"
          },
          "metadata": {}
        }
      ],
      "source": [
        "def kmeans_from_scratch(X, n_clusters, max_iter=300, random_state=None):\n",
        "    \"\"\"\n",
        "    K-Means clustering from scratch using NumPy.\n",
        "\n",
        "    Parameters\n",
        "    ----------\n",
        "    X : (n_samples, n_features) ndarray\n",
        "        The input data.\n",
        "    n_clusters : int\n",
        "        The number of clusters. This is same as k.\n",
        "    max_iter : int\n",
        "        Maximum number of iterations for the K-Means algorithm.\n",
        "    random_state : int or np.random.Generator or None\n",
        "        Seed for random number generation.\n",
        "\n",
        "    Returns\n",
        "    -------\n",
        "    labels : (n_samples,) ndarray\n",
        "        Cluster labels for each sample.\n",
        "    centers : (n_clusters, n_features) ndarray\n",
        "        Cluster centers.\n",
        "    \"\"\"\n",
        "    rng = np.random.default_rng(random_state)\n",
        "    n_samples, n_features = X.shape\n",
        "\n",
        "    # 1. Initialize cluster centers\n",
        "    # Randomly pick n_clusters data points as initial centers\n",
        "    random_indices = rng.choice(n_samples, size=n_clusters, replace=False)\n",
        "    centers = X[random_indices]\n",
        "\n",
        "    for _ in range(max_iter):\n",
        "        # 2. Assign each data point to the nearest center\n",
        "        # Calculate distances between each data point and each center\n",
        "        distances = np.sqrt(((X - centers[:, np.newaxis])**2).sum(axis=2))\n",
        "        # Assign each point to the cluster with the minimum distance\n",
        "        labels = np.argmin(distances, axis=0)\n",
        "\n",
        "        # 3. Update cluster centers\n",
        "        new_centers = np.array([X[labels == i].mean(axis=0) if np.sum(labels == i) > 0 else centers[i] for i in range(n_clusters)])\n",
        "\n",
        "        # 4. Check for convergence\n",
        "        if np.allclose(centers, new_centers):\n",
        "            break\n",
        "        centers = new_centers\n",
        "\n",
        "    return labels, centers\n",
        "\n",
        "# Apply K-Means from scratch algorithm\n",
        "cluster_labels_scratch, cluster_centers_scratch = kmeans_from_scratch(X, n_clusters=32, random_state=42)\n",
        "\n",
        "# Create a barchart to show the distribution\n",
        "# Visualize Hierarchical Clustering results\n",
        "plt.bar(np.unique(cluster_labels_scratch), np.bincount(cluster_labels_scratch))\n",
        "plt.xlabel('Cluster')\n",
        "plt.ylabel('Frequency')\n",
        "plt.title('K-Means Clustering')\n",
        "plt.show()"
      ]
    },
    {
      "cell_type": "markdown",
      "metadata": {
        "id": "0-wcTXfIBNW1"
      },
      "source": [
        "### Exercise 2.2 - Difference between Agglomerative Clustering and K-Means Clustering (10 points)\n",
        "\n",
        "Compare the result from Exercise 2.1 with that from Exercise 1.2, and explain\n",
        " - How the two results are different\n",
        " - Why there is such a difference"
      ]
    },
    {
      "cell_type": "markdown",
      "source": [
        "Agglomerative Clustering and K-Means Clustering results differ because the clusters are spread out much more evenly in K-Means, while the Agglomerative Clustering is much more dispersed toward the left most clusters and much more chunked up in the right most clusters. For Agglomerative, this happens because we have many bitstrings that form a cluster/equivalence class in clusters 25 - 31. There are very few bitstrings that do not form a cluster together as defined by Manhattan distance + single linkage. This seems like a much more accurate way of grouping into equivalence classes because we want bitstrings that are equivalent to be grouped together like this. In K-means, the point is to optimize variance around a centroid, not to necessarily mimic the actual equivalance class of a bitstring."
      ],
      "metadata": {
        "id": "zO5AnT9gyt8E"
      }
    },
    {
      "cell_type": "markdown",
      "metadata": {
        "id": "UZ7x7XLmBNW2"
      },
      "source": [
        "## Exercise 3 - Principal Component Analysis (30 points in total)\n",
        "\n",
        "We can visualize how the bitstrings are distributed using principal component analysis.\n",
        "\n",
        "### Exercise 3.1 - Generate 2 Clusters (10 points)\n",
        "\n",
        " - Re-do the k-means clustering on our dataset again, but this time we only consider ```k=2```.\n",
        " - Show the frequency(number of members) of each cluster."
      ]
    },
    {
      "cell_type": "code",
      "execution_count": 5,
      "metadata": {
        "id": "JesfXSz2BNW2",
        "colab": {
          "base_uri": "https://localhost:8080/",
          "height": 472
        },
        "outputId": "7cb72f75-7902-4038-9550-b6c3bfe55fbb"
      },
      "outputs": [
        {
          "output_type": "display_data",
          "data": {
            "text/plain": [
              "<Figure size 640x480 with 1 Axes>"
            ],
            "image/png": "[encoded data removed]"
          },
          "metadata": {}
        }
      ],
      "source": [
        "def kmeans_from_scratch(X, n_clusters, max_iter=300, random_state=None):\n",
        "    \"\"\"\n",
        "    K-Means clustering from scratch using NumPy.\n",
        "\n",
        "    Parameters\n",
        "    ----------\n",
        "    X : (n_samples, n_features) ndarray\n",
        "        The input data.\n",
        "    n_clusters : int\n",
        "        The number of clusters. This is same as k.\n",
        "    max_iter : int\n",
        "        Maximum number of iterations for the K-Means algorithm.\n",
        "    random_state : int or np.random.Generator or None\n",
        "        Seed for random number generation.\n",
        "\n",
        "    Returns\n",
        "    -------\n",
        "    labels : (n_samples,) ndarray\n",
        "        Cluster labels for each sample.\n",
        "    centers : (n_clusters, n_features) ndarray\n",
        "        Cluster centers.\n",
        "    \"\"\"\n",
        "    rng = np.random.default_rng(random_state)\n",
        "    n_samples, n_features = X.shape\n",
        "\n",
        "    # 1. Initialize cluster centers\n",
        "    # Randomly pick n_clusters data points as initial centers\n",
        "    random_indices = rng.choice(n_samples, size=n_clusters, replace=False)\n",
        "    centers = X[random_indices]\n",
        "\n",
        "    for _ in range(max_iter):\n",
        "        # 2. Assign each data point to the nearest center\n",
        "        # Calculate distances between each data point and each center\n",
        "        distances = np.sqrt(((X - centers[:, np.newaxis])**2).sum(axis=2))\n",
        "        # Assign each point to the cluster with the minimum distance\n",
        "        labels = np.argmin(distances, axis=0)\n",
        "\n",
        "        # 3. Update cluster centers\n",
        "        new_centers = np.array([X[labels == i].mean(axis=0) if np.sum(labels == i) > 0 else centers[i] for i in range(n_clusters)])\n",
        "\n",
        "        # 4. Check for convergence\n",
        "        if np.allclose(centers, new_centers):\n",
        "            break\n",
        "        centers = new_centers\n",
        "\n",
        "    return labels, centers\n",
        "\n",
        "# Apply K-Means from scratch algorithm\n",
        "cluster_labels_scratch, cluster_centers_scratch = kmeans_from_scratch(X, n_clusters=2, random_state=42)\n",
        "\n",
        "# Create a barchart to show the distribution\n",
        "# Visualize Hierarchical Clustering results\n",
        "plt.bar(np.unique(cluster_labels_scratch), np.bincount(cluster_labels_scratch))\n",
        "plt.xlabel('Cluster')\n",
        "plt.ylabel('Frequency')\n",
        "plt.title('K-Means Clustering')\n",
        "plt.show()"
      ]
    },
    {
      "cell_type": "markdown",
      "metadata": {
        "id": "oopLQZzNBNW3"
      },
      "source": [
        "### Exercise 3.2 - PCA for Feature Extraction (20 points)\n",
        "\n",
        " - Retrieve the projected dataset with PCA, using ```n_components=2```.\n",
        " - Generate a scatter plot to visualize the projected points, where they should be colored differently based on the assigned cluster in Exercise 3.1.\n",
        " - In the first principal component, **print out** the weights of all features.\n",
        " - Report which feature has the **highest positive** weight in the first principal component."
      ]
    },
    {
      "cell_type": "code",
      "execution_count": 15,
      "metadata": {
        "id": "3bBdEj7MBNW3",
        "colab": {
          "base_uri": "https://localhost:8080/",
          "height": 886
        },
        "outputId": "55138b5f-4c2b-4a82-f42c-3191c017d796"
      },
      "outputs": [
        {
          "output_type": "stream",
          "name": "stdout",
          "text": [
            "Original Data:\n",
            " [[0 1 0 ... 1 0 0]\n",
            " [1 1 0 ... 1 1 1]\n",
            " [1 1 1 ... 1 1 1]\n",
            " ...\n",
            " [0 0 0 ... 1 0 0]\n",
            " [0 0 0 ... 1 0 0]\n",
            " [0 0 0 ... 1 0 0]]\n",
            "\n",
            "Projected data (Z):\n",
            " [[-0.6001942   0.0166356 ]\n",
            " [ 0.02315982 -0.6328386 ]\n",
            " [-0.18847038  0.24780175]\n",
            " ...\n",
            " [-0.19342467  0.25984528]\n",
            " [ 0.01938111  0.47546567]\n",
            " [-0.45758177  0.3928529 ]]\n",
            "\n",
            "First Principal Component weights (W):\n",
            " [ 0.30869535 -0.29471969 -0.10879123 -0.00825513 -0.01715377 -0.25862674\n",
            " -0.39558024 -0.40812409  0.35620541  0.2641571  -0.13794833 -0.02241406\n",
            " -0.21280578  0.01151845 -0.01410209  0.39230284]\n",
            "Scatter Plot colored by k-means labels\n"
          ]
        },
        {
          "output_type": "display_data",
          "data": {
            "text/plain": [
              "<Figure size 600x500 with 1 Axes>"
            ],
            "image/png": "[encoded data removed]"
          },
          "metadata": {}
        }
      ],
      "source": [
        "def pca_from_scratch(X, n_components, center=True):\n",
        "    \"\"\"\n",
        "    Performs Principal Component Analysis (PCA) on a dataset using NumPy from scratch.\n",
        "    \"\"\"\n",
        "    X = np.asarray(X, dtype=float)\n",
        "    n_samples, n_features = X.shape\n",
        "\n",
        "    # 1. Center the data\n",
        "    mean_ = X.mean(axis=0) if center else np.zeros(n_features)\n",
        "    Xc = X - mean_\n",
        "\n",
        "    # 2. Compute the covariance matrix\n",
        "    cov_matrix = (Xc.T @ Xc) / max(n_samples - 1, 1)\n",
        "\n",
        "    # 3. Eigen decomposition\n",
        "    eigenvalues, eigenvectors = np.linalg.eig(cov_matrix)\n",
        "\n",
        "    # 4. Sort by eigenvalues\n",
        "    sorted_indices = np.argsort(eigenvalues)[::-1]\n",
        "    lambdas = eigenvalues[sorted_indices]\n",
        "    W = eigenvectors[:, sorted_indices]  # eigenvectors as columns\n",
        "\n",
        "    # 5. Keep top components\n",
        "    lambdas = lambdas[:n_components]\n",
        "    W = W[:, :n_components]\n",
        "\n",
        "    # 6. Project the data\n",
        "    Z = Xc @ W\n",
        "\n",
        "    # Explained variance ratio\n",
        "    total_variance = np.sum(np.diag(eigenvalues))\n",
        "    explained_variance_ratio = lambdas / (total_variance + 1e-32)\n",
        "\n",
        "    return Z, W, explained_variance_ratio\n",
        "\n",
        "# Apply PCA (scratch implementation)\n",
        "Z, W, evr = pca_from_scratch(X, n_components=2, center=True)\n",
        "\n",
        "print(f\"Original Data:\\n\", X)\n",
        "print(\"\\nProjected data (Z):\\n\", Z)\n",
        "print(\"\\nFirst Principal Component weights (W):\\n\", W[:, 0])\n",
        "\n",
        "print(\"Scatter Plot colored by k-means labels\")\n",
        "plt.figure(figsize=(6, 5))\n",
        "plt.scatter(Z[:, 0], Z[:, 1], c=cluster_labels_scratch)\n",
        "plt.title('Projected Points')\n",
        "plt.xlabel('PC1')\n",
        "plt.ylabel('PC2')\n",
        "plt.grid(True)\n",
        "plt.show()"
      ]
    },
    {
      "cell_type": "markdown",
      "metadata": {
        "id": "Zub17AVhCtPj"
      },
      "source": [
        "## Exercise 4 - Singular Value Decomposition (25 points in total)\n",
        "\n",
        "Let's decompose our data set into left and right matrices to find unknown structure in our data\n",
        "\n",
        "### Exercise 4.1 - Generate the [SVD](https://scikit-learn.org/stable/modules/generated/sklearn.decomposition.TruncatedSVD.html) (10 points)\n",
        "\n",
        " - Generate multiple SVD's using 2, 3 and 4 components ```k=2, k=3 and k=4```.\n",
        " Give each SVD it's own python variable.\n",
        " - Calculate a pairwise cosine similarity of our kxn matrix for n features (should result in an nxn matrix)\n",
        " - Generate Pair plots for the left and right matrices.\n",
        " - Evaluate your results and what can you extract from the results of k=2, k=3 and k=4 dimensional reductions?"
      ]
    },
    {
      "cell_type": "markdown",
      "metadata": {
        "id": "OcIaot2GP-G4"
      },
      "source": [
        "**Before performing SVD, let's first calculate our Eigen values and Eigen vectors of our matrix**"
      ]
    },
    {
      "cell_type": "code",
      "execution_count": null,
      "metadata": {
        "id": "0VgCTjBuQGdS"
      },
      "outputs": [],
      "source": [
        "eigen_values, eigen_vectors = np.linalg.eig(np.array(df).T @ np.array(df))"
      ]
    },
    {
      "cell_type": "code",
      "execution_count": null,
      "metadata": {
        "id": "-tFdAHFdQIsO"
      },
      "outputs": [],
      "source": [
        "# Let's evaluate our values. You can use this for your final evaluation for 4.1\n",
        "eigen_values"
      ]
    },
    {
      "cell_type": "code",
      "execution_count": null,
      "metadata": {
        "id": "TzCu8XLJCv1C"
      },
      "outputs": [],
      "source": [
        "from sklearn.decomposition import TruncatedSVD\n",
        "import numpy as np\n",
        "import seaborn as sns\n",
        "import matplotlib.pyplot as plt"
      ]
    },
    {
      "cell_type": "code",
      "execution_count": null,
      "metadata": {
        "id": "4a9fR-unDbYf"
      },
      "outputs": [],
      "source": [
        "# Here we generate an SVD using k = 5 yielding u,s,v of mx5, 5x5, nx5.T\n",
        "X = df.values\n",
        "U, s, Vt = np.linalg.svd(X, full_matrices=False)"
      ]
    },
    {
      "cell_type": "code",
      "execution_count": null,
      "metadata": {
        "id": "x7nzG00ZDbi8"
      },
      "outputs": [],
      "source": [
        "k = 5\n",
        "U_k = U[:, :k]                # m × 5\n",
        "s_k = s[:k]                   # length-5 vector\n",
        "Vt_k = Vt[:k, :]              # 5 × n"
      ]
    },
    {
      "cell_type": "code",
      "execution_count": null,
      "metadata": {
        "id": "LXN_ANHkj9sf"
      },
      "outputs": [],
      "source": [
        "explained_variance = (s_k**2) / (X.shape[0] - 1)\n",
        "total_var = (s**2).sum() / (X.shape[0] - 1)\n",
        "explained_variance_ratio = explained_variance / total_var\n",
        "\n",
        "print(\"Explained variance ratio:\", explained_variance_ratio) # Prints the explained variance for each of the 5 components\n",
        "print(\"Sum of top-5 ratios:\", explained_variance_ratio.sum()) # Prints the sum of the 5 from above\n",
        "sigma_matrix = np.diag(s_k)  # Creates the sigma matrix from the singular values\n",
        "print(\"Sigma matrix:\\n\", sigma_matrix) # Prints the sigma matrix\n",
        "print(\"Singular values:\", s_k) # Our singular values"
      ]
    },
    {
      "cell_type": "code",
      "execution_count": null,
      "metadata": {
        "id": "MU3qhOwCPVR0"
      },
      "outputs": [],
      "source": []
    },
    {
      "cell_type": "code",
      "execution_count": null,
      "metadata": {
        "id": "D6_yd-VMFoxU"
      },
      "outputs": [],
      "source": [
        "# We will define our cosine similarity function\n",
        "def cosine_similarity(a, b):\n",
        "    \"\"\"Calculates the cosine similarity between two vectors.\"\"\"\n",
        "    dot_product = np.dot(a, b)\n",
        "    norm_a = np.linalg.norm(a)\n",
        "    norm_b = np.linalg.norm(b)\n",
        "    return dot_product / (norm_a * norm_b)"
      ]
    },
    {
      "cell_type": "code",
      "execution_count": null,
      "metadata": {
        "id": "1LEQZPtdFamT"
      },
      "outputs": [],
      "source": [
        "right_matrix = pd.DataFrame(Vt_k)\n",
        "print(\"Right matrix shape:\", right_matrix.shape) # lets check the shape"
      ]
    },
    {
      "cell_type": "code",
      "execution_count": null,
      "metadata": {
        "id": "KOfJ3OjdFb7_"
      },
      "outputs": [],
      "source": [
        "right_matrix"
      ]
    },
    {
      "cell_type": "markdown",
      "metadata": {
        "id": "lZRjovvAKVIL"
      },
      "source": [
        "**Generate code for performing a pairwise calculation of our features using cosine_similarity**"
      ]
    },
    {
      "cell_type": "code",
      "execution_count": null,
      "metadata": {
        "id": "4nXiav9zLRh4"
      },
      "outputs": [],
      "source": []
    },
    {
      "cell_type": "markdown",
      "metadata": {
        "id": "prkZ-Ue7MTHh"
      },
      "source": [
        "**Let's extract our left matrix** This is similar to looking at customers with similar movie viewing habits"
      ]
    },
    {
      "cell_type": "code",
      "execution_count": null,
      "metadata": {
        "id": "HLFuw5xkF8Vg"
      },
      "outputs": [],
      "source": [
        "left_matrix = pd.DataFrame((U_k * s_k) / s_k)\n",
        "print(\"Left matrix shape:\", left_matrix.shape) #let's check the shape"
      ]
    },
    {
      "cell_type": "code",
      "execution_count": null,
      "metadata": {
        "id": "39-RT9IEF9A2"
      },
      "outputs": [],
      "source": [
        "left_matrix"
      ]
    },
    {
      "cell_type": "code",
      "execution_count": null,
      "metadata": {
        "id": "AgbrvV9fRHMt"
      },
      "outputs": [],
      "source": []
    },
    {
      "cell_type": "markdown",
      "metadata": {
        "id": "Uf4hhMBuJY0R"
      },
      "source": [
        "**Explain your interpretation for each of the SVD's you generated for k=2, 3, 4**"
      ]
    },
    {
      "cell_type": "markdown",
      "metadata": {
        "id": "AWZKTM52JhTH"
      },
      "source": []
    },
    {
      "cell_type": "markdown",
      "metadata": {
        "id": "ohRnp0xBCvf5"
      },
      "source": [
        "### Exercise 4.2 - Generate Clusters (15 points)\n",
        "\n",
        " - Re-do the k-means clustering on our dataset again for the three different components created by you above, of the left matrix.\n",
        " - Show the frequency (number of members) of each cluster.\n",
        " - Generate clusters from 2 to 10\n",
        " - Use the [silhouette](https://scikit-learn.org/1.5/auto_examples/cluster/plot_kmeans_silhouette_analysis.html) method to choose the best k clusters"
      ]
    },
    {
      "cell_type": "code",
      "execution_count": null,
      "metadata": {
        "id": "PGHYoIckCv_G"
      },
      "outputs": [],
      "source": []
    },
    {
      "cell_type": "code",
      "execution_count": null,
      "metadata": {
        "id": "FcwzW-FoCwFZ"
      },
      "outputs": [],
      "source": []
    },
    {
      "cell_type": "markdown",
      "metadata": {
        "id": "m9vFxokzBNW4"
      },
      "source": [
        "## Exercise 4 - Collaborative Statement (5 points)\n",
        "### You must fill this out even if you worked alone to get credit.\n",
        "\n",
        "It is mandatory to include a Statement of Collaboration in each submission, that follows the guidelines below.\n",
        "Include the names of everyone involved in the discussions (especially in-person ones), and what was discussed.\n",
        "All students are required to follow the academic honesty guidelines posted on the course website. For\n",
        "programming assignments in particular, I encourage students to organize (perhaps using Piazza) to discuss the\n",
        "task descriptions, requirements, possible bugs in the support code, and the relevant technical content before they\n",
        "start working on it. However, you should not discuss the specific solutions, and as a guiding principle, you are\n",
        "not allowed to take anything written or drawn away from these discussions (no photographs of the blackboard,\n",
        "written notes, referring to Piazza, etc.). Especially after you have started working on the assignment, try to restrict\n",
        "the discussion to Piazza as much as possible, so that there is no doubt as to the extent of your collaboration."
      ]
    },
    {
      "cell_type": "markdown",
      "source": [
        "I did not discuss my code with anyone.  \n",
        "I did utilize the StatQuest video located at: https://youtu.be/7xHsRkOdVwo?feature=shared"
      ],
      "metadata": {
        "id": "3HH3rng74zXM"
      }
    }
  ],
  "metadata": {
    "colab": {
      "provenance": []
    },
    "kernelspec": {
      "display_name": "Python 3 (ipykernel)",
      "language": "python",
      "name": "python3"
    },
    "language_info": {
      "codemirror_mode": {
        "name": "ipython",
        "version": 3
      },
      "file_extension": ".py",
      "mimetype": "text/x-python",
      "name": "python",
      "nbconvert_exporter": "python",
      "pygments_lexer": "ipython3",
      "version": "3.8.10"
    }
  },
  "nbformat": 4,
  "nbformat_minor": 0
}